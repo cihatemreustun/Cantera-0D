{
 "cells": [
  {
   "cell_type": "code",
   "execution_count": 155,
   "id": "861347ca",
   "metadata": {},
   "outputs": [],
   "source": [
    "#This is a trial with the adiabatic flame temperature using GRIMECH3.0 over a range of equivalence ratios\n",
    "\n",
    "from cantera import *\n",
    "from pylab import *\n",
    "import sys\n",
    "import csv\n",
    "import matplotlib.pyplot as plt"
   ]
  },
  {
   "cell_type": "code",
   "execution_count": 156,
   "id": "90bf4c18",
   "metadata": {},
   "outputs": [],
   "source": [
    "# Problem; given a fuel-oxidizer mixture at a given T and P, determine the adiabatic flame temperature. Specifically, determine the Tad as a function of equivalence ratio."
   ]
  },
  {
   "cell_type": "code",
   "execution_count": 157,
   "id": "c22fda75",
   "metadata": {},
   "outputs": [],
   "source": [
    "# Edit these parameters to change the initial temperature, the pressure, and the phases in the mixture\n",
    "temp = 298.0\n",
    "pres = 101325.0\n",
    "\n",
    "# phases\n",
    "gas  = Solution('gri30.cti')\n",
    "carbon = Solution('graphite.cti')\n",
    "\n",
    "# the phases that will be included in the calculation, and their\n",
    "# initial moles\n",
    "mix_phases = [(gas, 1.0), (carbon, 0.0)]\n",
    "\n",
    "# gaseous fuel species\n",
    "fuel_species = 'C3H8'\n",
    "\n",
    "# air composition\n",
    "air_N2_O2_ratio = 3.76\n",
    "\n",
    "# create a mixture object out of the fuel and oxidizer\n",
    "mix = Mixture(mix_phases)\n",
    "\n",
    "nsp = mix.n_species"
   ]
  },
  {
   "cell_type": "code",
   "execution_count": 158,
   "id": "84c03920",
   "metadata": {},
   "outputs": [],
   "source": [
    "# equivalence ratio range\n",
    "phi_min = 0.8\n",
    "phi_max = 1.2\n",
    "npoints = 10"
   ]
  },
  {
   "cell_type": "code",
   "execution_count": 159,
   "id": "446fb2f4",
   "metadata": {},
   "outputs": [],
   "source": [
    "# find fuel, nitrogen, and oxygen indices\n",
    "ifuel = gas.species_index(fuel_species)\n",
    "io2 = gas.species_index(\"O2\")\n",
    "in2 = gas.species_index(\"N2\")"
   ]
  },
  {
   "cell_type": "code",
   "execution_count": 160,
   "id": "e7873ed1",
   "metadata": {},
   "outputs": [],
   "source": [
    "stoich_O2 = gas.n_atoms(fuel_species,'C') + 0.25*gas.n_atoms(fuel_species,'H')\n",
    "#           ^^^^^^^^^^                      ^^^^^^^^^^^^^^^\n",
    "#         accounts for formation of CO2     accounts for formation of H2O (4 H's per O2)"
   ]
  },
  {
   "cell_type": "code",
   "execution_count": 161,
   "id": "eabe278e",
   "metadata": {},
   "outputs": [],
   "source": [
    "# create some arrays to hold the data\n",
    "phi = zeros(npoints, 'd')\n",
    "tad = zeros(npoints, 'd')\n",
    "xeq = zeros([nsp, npoints], 'd')"
   ]
  },
  {
   "cell_type": "code",
   "execution_count": 162,
   "id": "ef593c3c",
   "metadata": {},
   "outputs": [
    {
     "name": "stdout",
     "output_type": "stream",
     "text": [
      "At phi = 0.8, Tad = 2041.2873312094764\n",
      "At phi = 0.8444444444444444, Tad = 2106.3495473592825\n",
      "At phi = 0.888888888888889, Tad = 2164.968974394977\n",
      "At phi = 0.9333333333333333, Tad = 2214.8439939765462\n",
      "At phi = 0.9777777777777777, Tad = 2252.6401418892497\n",
      "At phi = 1.0222222222222221, Tad = 2273.8924242754433\n",
      "At phi = 1.0666666666666667, Tad = 2275.026734425752\n",
      "At phi = 1.1111111111111112, Tad = 2258.3539345016447\n",
      "At phi = 1.1555555555555554, Tad = 2231.184837247801\n",
      "At phi = 1.2, Tad = 2199.3434321446703\n"
     ]
    }
   ],
   "source": [
    "for i in range(npoints):\n",
    "    phi[i] = phi_min + (phi_max - phi_min)*i/(npoints - 1)\n",
    "    x = zeros(nsp-1, \"d\")\n",
    "    x[ifuel] = phi[i]\n",
    "    x[io2] = stoich_O2\n",
    "    x[in2] = stoich_O2*air_N2_O2_ratio\n",
    "    # set the gas state\n",
    "    gas.TPX = temp, pres, x\n",
    "    mix = Mixture(mix_phases)\n",
    "    mix.P = pres\n",
    "    mix.T = temp\n",
    "    mix.equilibrate('HP', max_steps = 1000, rtol = 1.0e-6, max_iter = 200, log_level=0)\n",
    "    tad[i] = mix.T\n",
    "    print('At phi = {}, Tad = {}'.format(phi[i], tad[i]))\n",
    "    xeq[:,i] = mix.species_moles"
   ]
  },
  {
   "cell_type": "code",
   "execution_count": 163,
   "id": "14d8bd3b",
   "metadata": {},
   "outputs": [
    {
     "name": "stdout",
     "output_type": "stream",
     "text": [
      "output written to adiabatic.csv\n"
     ]
    }
   ],
   "source": [
    "# create array with species names\n",
    "neq = mix.species_names\n",
    "\n",
    "# write output CSV file for importing into Excel\n",
    "csvfile = 'adiabatic.csv'\n",
    "f = open(csvfile, 'w')\n",
    "csv.writer(f,['phi','T (K)']+mix.species_names)\n",
    "for n in range(npoints):\n",
    "    csv.writer(f,[phi[n], tad[n]]+list(xeq[:,n]))\n",
    "f.close()\n",
    "print('output written to '+csvfile)"
   ]
  },
  {
   "cell_type": "code",
   "execution_count": 164,
   "id": "c8c05581",
   "metadata": {},
   "outputs": [],
   "source": [
    "species = list()\n",
    "species.append('CO2')\n",
    "species.append('CO')\n",
    "species.append('H2O')\n",
    "species.append('H2')\n",
    "species.append('OH')\n",
    "species.append('H')\n",
    "species.append('O2')\n",
    "species.append('O')\n",
    "species.append('NO')\n",
    "species.append('N2')\n",
    "species.append('N')"
   ]
  },
  {
   "cell_type": "code",
   "execution_count": 165,
   "id": "0525bcc1",
   "metadata": {},
   "outputs": [],
   "source": [
    "xlim = 0.04"
   ]
  },
  {
   "cell_type": "code",
   "execution_count": 166,
   "id": "3ea9d0c1",
   "metadata": {},
   "outputs": [
    {
     "data": {
      "text/plain": [
       "<Figure size 432x288 with 0 Axes>"
      ]
     },
     "metadata": {},
     "output_type": "display_data"
    }
   ],
   "source": [
    "fig=figure(1)"
   ]
  },
  {
   "cell_type": "code",
   "execution_count": 167,
   "id": "0ce8e7b0",
   "metadata": {},
   "outputs": [
    {
     "data": {
      "image/png": "[encoded data removed]",
      "text/plain": [
       "<Figure size 432x288 with 1 Axes>"
      ]
     },
     "metadata": {
      "needs_background": "light"
     },
     "output_type": "display_data"
    }
   ],
   "source": [
    "title(r'$T_{adiabatic}$ vs. $\\Phi$')\n",
    "xlabel(r'$\\Phi$', fontsize=20)\n",
    "ylabel(\"Adiabatic Flame Temperature [K]\")\n",
    "plt.plot(phi, tad)\n",
    "plt.show()"
   ]
  }
 ],
 "metadata": {
  "kernelspec": {
   "display_name": "Python 3 (ipykernel)",
   "language": "python",
   "name": "python3"
  },
  "language_info": {
   "codemirror_mode": {
    "name": "ipython",
    "version": 3
   },
   "file_extension": ".py",
   "mimetype": "text/x-python",
   "name": "python",
   "nbconvert_exporter": "python",
   "pygments_lexer": "ipython3",
   "version": "3.9.7"
  }
 },
 "nbformat": 4,
 "nbformat_minor": 5
}
