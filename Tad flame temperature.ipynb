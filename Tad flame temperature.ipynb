{
 "cells": [
  {
   "cell_type": "code",
   "execution_count": 31,
   "id": "861347ca",
   "metadata": {},
   "outputs": [],
   "source": [
    "#This is a trial with the adiabatic flame temperature using GRIMECH3.0 over a range of equivalence ratios\n",
    "\n",
    "from cantera import *\n",
    "from pylab import *\n",
    "import sys"
   ]
  },
  {
   "cell_type": "code",
   "execution_count": 32,
   "id": "90bf4c18",
   "metadata": {},
   "outputs": [],
   "source": [
    "# Problem; given a fuel-oxidizer mixture at a given T and P, determine the adiabatic flame temperature. Specifically, determine the Tad as a function of equivalence ratio.\n"
   ]
  },
  {
   "cell_type": "code",
   "execution_count": 33,
   "id": "c22fda75",
   "metadata": {},
   "outputs": [],
   "source": [
    "# Edit these parameters to change the initial temperature, the\n",
    "# pressure, and the phases in the mixture\n",
    "temp = 298.0\n",
    "pres = 101325.0\n",
    "\n",
    "# phases\n",
    "gas  = Solution('gri30.cti')\n",
    "carbon = Solution('graphite.cti')\n",
    "\n",
    "# the phases that will be included in the calculation, and their\n",
    "# initial moles\n",
    "mix_phases = [(gas, 1.0), (carbon, 0.0)]\n",
    "\n",
    "# gaseous fuel species\n",
    "fuel_species = 'C3H8'\n",
    "\n",
    "# air composition\n",
    "air_N2_O2_ratio = 3.76\n",
    "\n",
    "# create a mixture object out of the fuel and oxidizer\n",
    "mix = Mixture(mix_phases)\n",
    "\n",
    "nsp = mix.n_species"
   ]
  },
  {
   "cell_type": "code",
   "execution_count": 34,
   "id": "84c03920",
   "metadata": {},
   "outputs": [],
   "source": [
    "# equivalence ratio range\n",
    "phi_min = 0.8\n",
    "phi_max = 1.2\n",
    "npoints = 10"
   ]
  },
  {
   "cell_type": "code",
   "execution_count": 50,
   "id": "446fb2f4",
   "metadata": {},
   "outputs": [],
   "source": [
    "# find fuel, nitrogen, and oxygen indices\n",
    "ifuel = gas.species_index(fuel_species)\n",
    "io2 = gas.species_index(\"O2\")\n",
    "in2 = gas.species_index(\"N2\")"
   ]
  },
  {
   "cell_type": "code",
   "execution_count": 51,
   "id": "e7873ed1",
   "metadata": {},
   "outputs": [],
   "source": [
    "stoich_O2 = gas.n_atoms(fuel_species,'C') + 0.25*gas.n_atoms(fuel_species,'H')\n",
    "#           ^^^^^^^^^^                      ^^^^^^^^^^^^^^^\n",
    "#         accounts for formation of CO2     accounts for formation of H2O (4 H's per O2)"
   ]
  },
  {
   "cell_type": "code",
   "execution_count": 53,
   "id": "eabe278e",
   "metadata": {},
   "outputs": [],
   "source": [
    "# create some arrays to hold the data\n",
    "phi = zeros(npoints, 'd')\n",
    "tad = zeros(npoints, 'd')\n",
    "xeq = zeros([nsp, npoints], 'd')"
   ]
  },
  {
   "cell_type": "code",
   "execution_count": 55,
   "id": "ef593c3c",
   "metadata": {},
   "outputs": [],
   "source": [
    "for i in range(npoints):\n",
    "   phi[i] = phi_min + (phi_max - phi_min)*i/(npoints - 1)"
   ]
  },
  {
   "cell_type": "code",
   "execution_count": 70,
   "id": "80233dba",
   "metadata": {},
   "outputs": [
    {
     "name": "stdout",
     "output_type": "stream",
     "text": [
      "54\n",
      "53\n"
     ]
    }
   ],
   "source": [
    "x = zeros(nsp-1, \"d\")\n",
    "x[ifuel] = phi[i]\n",
    "x[io2] = stoich_O2\n",
    "x[in2] = stoich_O2*air_N2_O2_ratio\n",
    "print(nsp)\n",
    "print(len(x))\n",
    "# set the gas state\n",
    "gas.TPX = temp, pres, x  ## SOMETHING WRONG HERE IN THIS CELL!"
   ]
  },
  {
   "cell_type": "code",
   "execution_count": 80,
   "id": "bed0b0b6",
   "metadata": {},
   "outputs": [],
   "source": [
    "# create a mixture of 1 mole of gas, and 0 moles of solid carbon.\n",
    "mix = Mixture(mix_phases)\n",
    "mix.P = pres\n",
    "mix.T = temp\n"
   ]
  },
  {
   "cell_type": "code",
   "execution_count": 83,
   "id": "8d1e6f51",
   "metadata": {},
   "outputs": [],
   "source": [
    "mix.equilibrate('HP', max_steps = 1000, rtol = 1.0e-6, max_iter = 200, log_level=0)"
   ]
  },
  {
   "cell_type": "code",
   "execution_count": 87,
   "id": "78d07ea4",
   "metadata": {},
   "outputs": [
    {
     "ename": "TypeError",
     "evalue": "'float' object is not callable",
     "output_type": "error",
     "traceback": [
      "\u001b[1;31m---------------------------------------------------------------------------\u001b[0m",
      "\u001b[1;31mTypeError\u001b[0m                                 Traceback (most recent call last)",
      "\u001b[1;32m~\\AppData\\Local\\Temp/ipykernel_20676/3718043381.py\u001b[0m in \u001b[0;36m<module>\u001b[1;34m\u001b[0m\n\u001b[1;32m----> 1\u001b[1;33m \u001b[0mtad\u001b[0m\u001b[1;33m[\u001b[0m\u001b[0mi\u001b[0m\u001b[1;33m]\u001b[0m \u001b[1;33m=\u001b[0m \u001b[0mmix\u001b[0m\u001b[1;33m.\u001b[0m\u001b[0mT\u001b[0m\u001b[1;33m(\u001b[0m\u001b[1;33m)\u001b[0m\u001b[1;33m;\u001b[0m\u001b[1;33m\u001b[0m\u001b[1;33m\u001b[0m\u001b[0m\n\u001b[0m\u001b[0;32m      2\u001b[0m \u001b[0mprint\u001b[0m\u001b[1;33m(\u001b[0m\u001b[1;34m'At phi = %12.4g, Tad = %12.4g'\u001b[0m \u001b[1;33m%\u001b[0m \u001b[1;33m(\u001b[0m\u001b[0mphi\u001b[0m\u001b[1;33m[\u001b[0m\u001b[0mi\u001b[0m\u001b[1;33m]\u001b[0m\u001b[1;33m,\u001b[0m\u001b[0mtad\u001b[0m\u001b[1;33m[\u001b[0m\u001b[0mi\u001b[0m\u001b[1;33m]\u001b[0m\u001b[1;33m)\u001b[0m\u001b[1;33m)\u001b[0m\u001b[1;33m\u001b[0m\u001b[1;33m\u001b[0m\u001b[0m\n",
      "\u001b[1;31mTypeError\u001b[0m: 'float' object is not callable"
     ]
    }
   ],
   "source": [
    "tad[i] = mix.T();\n",
    "print('At phi = %12.4g, Tad = %12.4g' % (phi[i],tad[i])) - stuck here!"
   ]
  },
  {
   "cell_type": "code",
   "execution_count": null,
   "id": "31ee4190",
   "metadata": {},
   "outputs": [],
   "source": []
  },
  {
   "cell_type": "code",
   "execution_count": null,
   "id": "023c0cdf",
   "metadata": {},
   "outputs": [],
   "source": []
  },
  {
   "cell_type": "code",
   "execution_count": null,
   "id": "c8dacef1",
   "metadata": {},
   "outputs": [],
   "source": []
  },
  {
   "cell_type": "code",
   "execution_count": null,
   "id": "5a0f6f9f",
   "metadata": {},
   "outputs": [],
   "source": []
  },
  {
   "cell_type": "code",
   "execution_count": null,
   "id": "98ee8c9c",
   "metadata": {},
   "outputs": [],
   "source": []
  },
  {
   "cell_type": "code",
   "execution_count": null,
   "id": "73c7aaf2",
   "metadata": {},
   "outputs": [],
   "source": []
  },
  {
   "cell_type": "code",
   "execution_count": null,
   "id": "ec7337fa",
   "metadata": {},
   "outputs": [],
   "source": []
  },
  {
   "cell_type": "code",
   "execution_count": null,
   "id": "55636230",
   "metadata": {},
   "outputs": [],
   "source": []
  },
  {
   "cell_type": "code",
   "execution_count": null,
   "id": "80d98ba3",
   "metadata": {},
   "outputs": [],
   "source": []
  },
  {
   "cell_type": "code",
   "execution_count": null,
   "id": "daf7b4ec",
   "metadata": {},
   "outputs": [],
   "source": []
  },
  {
   "cell_type": "code",
   "execution_count": null,
   "id": "6aac2f5b",
   "metadata": {},
   "outputs": [],
   "source": []
  },
  {
   "cell_type": "code",
   "execution_count": null,
   "id": "6af03f39",
   "metadata": {},
   "outputs": [],
   "source": []
  },
  {
   "cell_type": "code",
   "execution_count": null,
   "id": "8bf28e06",
   "metadata": {},
   "outputs": [],
   "source": []
  },
  {
   "cell_type": "code",
   "execution_count": null,
   "id": "a0fecc8b",
   "metadata": {},
   "outputs": [],
   "source": []
  },
  {
   "cell_type": "code",
   "execution_count": null,
   "id": "4ad3cfda",
   "metadata": {},
   "outputs": [],
   "source": []
  },
  {
   "cell_type": "code",
   "execution_count": null,
   "id": "cb9adc43",
   "metadata": {},
   "outputs": [],
   "source": []
  },
  {
   "cell_type": "code",
   "execution_count": null,
   "id": "b999d06c",
   "metadata": {},
   "outputs": [],
   "source": []
  },
  {
   "cell_type": "code",
   "execution_count": null,
   "id": "93c1aacc",
   "metadata": {},
   "outputs": [],
   "source": []
  },
  {
   "cell_type": "code",
   "execution_count": null,
   "id": "f4ed8e48",
   "metadata": {},
   "outputs": [],
   "source": []
  },
  {
   "cell_type": "code",
   "execution_count": null,
   "id": "dd573fc9",
   "metadata": {},
   "outputs": [],
   "source": []
  },
  {
   "cell_type": "code",
   "execution_count": null,
   "id": "53e9f752",
   "metadata": {},
   "outputs": [],
   "source": []
  },
  {
   "cell_type": "code",
   "execution_count": null,
   "id": "4b10cc48",
   "metadata": {},
   "outputs": [],
   "source": []
  },
  {
   "cell_type": "code",
   "execution_count": null,
   "id": "3193b6c0",
   "metadata": {},
   "outputs": [],
   "source": []
  },
  {
   "cell_type": "code",
   "execution_count": null,
   "id": "396f0a82",
   "metadata": {},
   "outputs": [],
   "source": []
  },
  {
   "cell_type": "code",
   "execution_count": null,
   "id": "b300d7eb",
   "metadata": {},
   "outputs": [],
   "source": []
  },
  {
   "cell_type": "code",
   "execution_count": null,
   "id": "c816489d",
   "metadata": {},
   "outputs": [],
   "source": []
  },
  {
   "cell_type": "code",
   "execution_count": null,
   "id": "cca11e5f",
   "metadata": {},
   "outputs": [],
   "source": []
  },
  {
   "cell_type": "code",
   "execution_count": null,
   "id": "2dcd40fb",
   "metadata": {},
   "outputs": [],
   "source": []
  },
  {
   "cell_type": "code",
   "execution_count": null,
   "id": "54c6094d",
   "metadata": {},
   "outputs": [],
   "source": []
  },
  {
   "cell_type": "code",
   "execution_count": null,
   "id": "11d41fcd",
   "metadata": {},
   "outputs": [],
   "source": []
  },
  {
   "cell_type": "code",
   "execution_count": null,
   "id": "68f976ce",
   "metadata": {},
   "outputs": [],
   "source": []
  },
  {
   "cell_type": "code",
   "execution_count": null,
   "id": "6e4ad8a5",
   "metadata": {},
   "outputs": [],
   "source": []
  },
  {
   "cell_type": "code",
   "execution_count": null,
   "id": "8e3bacee",
   "metadata": {},
   "outputs": [],
   "source": []
  },
  {
   "cell_type": "code",
   "execution_count": null,
   "id": "93574f10",
   "metadata": {},
   "outputs": [],
   "source": []
  },
  {
   "cell_type": "code",
   "execution_count": null,
   "id": "ffa7eb04",
   "metadata": {},
   "outputs": [],
   "source": []
  },
  {
   "cell_type": "code",
   "execution_count": null,
   "id": "62bba939",
   "metadata": {},
   "outputs": [],
   "source": []
  },
  {
   "cell_type": "code",
   "execution_count": null,
   "id": "34403583",
   "metadata": {},
   "outputs": [],
   "source": []
  },
  {
   "cell_type": "code",
   "execution_count": null,
   "id": "9eae4d45",
   "metadata": {},
   "outputs": [],
   "source": []
  },
  {
   "cell_type": "code",
   "execution_count": null,
   "id": "835a5b45",
   "metadata": {},
   "outputs": [],
   "source": []
  },
  {
   "cell_type": "code",
   "execution_count": 40,
   "id": "6cf4fd0e",
   "metadata": {},
   "outputs": [
    {
     "name": "stdout",
     "output_type": "stream",
     "text": [
      "Help on built-in function species_index:\n",
      "\n",
      "species_index(...) method of cantera.composite.Solution instance\n",
      "    ThermoPhase.species_index(self, species) -> int\n",
      "    \n",
      "    The index of species *species*, which may be specified as a string or\n",
      "    an integer. In the latter case, the index is checked for validity and\n",
      "    returned. If no such species is present, an exception is thrown.\n",
      "\n"
     ]
    }
   ],
   "source": [
    "help(gas.species_index)"
   ]
  },
  {
   "cell_type": "code",
   "execution_count": null,
   "id": "3451113e",
   "metadata": {},
   "outputs": [],
   "source": []
  },
  {
   "cell_type": "code",
   "execution_count": null,
   "id": "84b4e57d",
   "metadata": {},
   "outputs": [],
   "source": []
  },
  {
   "cell_type": "code",
   "execution_count": null,
   "id": "e60959d5",
   "metadata": {},
   "outputs": [],
   "source": []
  },
  {
   "cell_type": "code",
   "execution_count": null,
   "id": "2bc7166f",
   "metadata": {},
   "outputs": [],
   "source": []
  }
 ],
 "metadata": {
  "kernelspec": {
   "display_name": "Python 3 (ipykernel)",
   "language": "python",
   "name": "python3"
  },
  "language_info": {
   "codemirror_mode": {
    "name": "ipython",
    "version": 3
   },
   "file_extension": ".py",
   "mimetype": "text/x-python",
   "name": "python",
   "nbconvert_exporter": "python",
   "pygments_lexer": "ipython3",
   "version": "3.9.7"
  }
 },
 "nbformat": 4,
 "nbformat_minor": 5
}
